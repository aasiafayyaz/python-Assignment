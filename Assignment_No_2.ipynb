{
 "cells": [
  {
   "cell_type": "code",
   "execution_count": 1,
   "metadata": {},
   "outputs": [
    {
     "name": "stdout",
     "output_type": "stream",
     "text": [
      "Please Enter  Marks for 5 different subjects.Note that the total marks for each subject is out of 100\n",
      "\n",
      "Marks For English\n",
      "Enter marks--->>34\n",
      "Marks For Urdu\n",
      "Enter marks--->>78\n",
      "Marks For Maths\n",
      "Enter marks--->>99.5\n",
      "Marks For Science\n",
      "Enter marks--->>45\n",
      "Marks For Computer\n",
      "Enter marks--->>67\n",
      "English -----> Grade is F\n",
      "Urdu -----> Grade is A\n",
      "Maths -----> Grade is A+\n",
      "Science -----> Grade is F\n",
      "Computer -----> Grade is B\n",
      "Your Overall Grade is B\n"
     ]
    }
   ],
   "source": [
    "print(\"Please Enter  Marks for 5 different subjects.Note that the total marks for each subject is out of 100\\n\")\n",
    "\n",
    "subjects=[\"English\",\"Urdu\",\"Maths\",\"Science\",\"Computer\"]\n",
    "record=[]\n",
    "for i in range(0,5):\n",
    "    print(\"Marks For\",subjects[i])\n",
    "    user=float(input(\"Enter marks--->>\"))\n",
    "    record.append(user)\n",
    "for i in range(0,5):\n",
    "    if record[i] >= 80 and record[i] <= 100:\n",
    "        print(subjects[i],\"-----> Grade is A+\")\n",
    "    elif record[i] >=70 and record[i] <80:\n",
    "        print(subjects[i],\"-----> Grade is A\")\n",
    "    elif record[i]>=60 and  record[i] <70:\n",
    "        print(subjects[i],\"-----> Grade is B\")\n",
    "    elif record[i] >=50 and  record[i] <60:\n",
    "        print(subjects[i],\"-----> Grade is C\")\n",
    "    else:\n",
    "        print(subjects[i],\"-----> Grade is F\")\n",
    "\n",
    "obtained_marks=sum(record)\n",
    "percentage=(obtained_marks*100)/500\n",
    "\n",
    "if percentage >=80 and percentage <= 100:\n",
    "    print(\"Your Overall Grade is A+\")\n",
    "elif percentage >=70 and percentage <80:\n",
    "    print(\"Your Overall Grade is A\")\n",
    "elif percentage>=60 and percentage <70:\n",
    "    print(\"Your Overall Grade is B\")\n",
    "elif percentage >=50 and percentage <60:\n",
    "    print(\"Your Overall Grade is C\")\n",
    "else:\n",
    "    print(\"Your Overall Grade is F\")     \n"
   ]
  },
  {
   "cell_type": "code",
   "execution_count": 2,
   "metadata": {},
   "outputs": [
    {
     "name": "stdout",
     "output_type": "stream",
     "text": [
      "Enter Number--->>67\n",
      "The Given Number Is Odd.\n"
     ]
    }
   ],
   "source": [
    "user=int(input(\"Enter Number--->>\"))\n",
    "a=user%2\n",
    "if a==0:\n",
    "    print(\"The Given Number Is Even.\")\n",
    "else:\n",
    "     print(\"The Given Number Is Odd.\")\n"
   ]
  },
  {
   "cell_type": "code",
   "execution_count": 3,
   "metadata": {},
   "outputs": [
    {
     "name": "stdout",
     "output_type": "stream",
     "text": [
      "count is--->> 6\n"
     ]
    }
   ],
   "source": [
    "count=0\n",
    "list_count=[4,\"tire\",\"retire\",66.7,4,3]#example list\n",
    "for i in list_count:\n",
    "    count+=1\n",
    "print(\"count is--->>\",count)\n"
   ]
  },
  {
   "cell_type": "code",
   "execution_count": 4,
   "metadata": {},
   "outputs": [
    {
     "name": "stdout",
     "output_type": "stream",
     "text": [
      "Sum of Numeric values--->> 165.7\n"
     ]
    }
   ],
   "source": [
    "\n",
    "list_count=[4,\"tire\",\"retire\",66.7,4,0,88,3]#example list\n",
    "add=0\n",
    "for i in list_count:\n",
    "    if type(i) != str:\n",
    "        add=i+add\n",
    "print(\"Sum of Numeric values--->>\",add)\n"
   ]
  },
  {
   "cell_type": "code",
   "execution_count": 5,
   "metadata": {},
   "outputs": [
    {
     "name": "stdout",
     "output_type": "stream",
     "text": [
      "43113\n"
     ]
    }
   ],
   "source": [
    "largest=0\n",
    "ex_list=[333,45,6,889,34,45.67,1000,43113]\n",
    "for i in ex_list:\n",
    "    if i>largest:\n",
    "        largest=i\n",
    "print(largest)\n",
    "    "
   ]
  },
  {
   "cell_type": "code",
   "execution_count": 6,
   "metadata": {},
   "outputs": [
    {
     "name": "stdout",
     "output_type": "stream",
     "text": [
      "numbers less than 5 are\n",
      "\n",
      "1\n",
      "1\n",
      "2\n",
      "3\n"
     ]
    }
   ],
   "source": [
    "\n",
    "a = [1, 1, 2, 3, 5, 8, 13, 21, 34, 55, 89]\n",
    "print(\"numbers less than 5 are\\n\")\n",
    "for i in a:\n",
    "    if i<5:\n",
    "        print(i)\n"
   ]
  },
  {
   "cell_type": "code",
   "execution_count": null,
   "metadata": {},
   "outputs": [],
   "source": []
  }
 ],
 "metadata": {
  "kernelspec": {
   "display_name": "Python 3",
   "language": "python",
   "name": "python3"
  },
  "language_info": {
   "codemirror_mode": {
    "name": "ipython",
    "version": 3
   },
   "file_extension": ".py",
   "mimetype": "text/x-python",
   "name": "python",
   "nbconvert_exporter": "python",
   "pygments_lexer": "ipython3",
   "version": "3.7.4"
  }
 },
 "nbformat": 4,
 "nbformat_minor": 2
}
