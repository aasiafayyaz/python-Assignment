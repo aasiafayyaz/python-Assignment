{
 "cells": [
  {
   "cell_type": "code",
   "execution_count": 1,
   "metadata": {},
   "outputs": [
    {
     "name": "stdout",
     "output_type": "stream",
     "text": [
      "first_name ---->> Ahmed Shah\n",
      "last_name ---->> Fazal Shah\n",
      "age ---->> 30\n",
      "city ---->> Karachi\n"
     ]
    },
    {
     "data": {
      "text/plain": [
       "'high academic level'"
      ]
     },
     "execution_count": 1,
     "metadata": {},
     "output_type": "execute_result"
    }
   ],
   "source": [
    "info_dict={\"first_name\":\"Ahmed Shah\",\"last_name\":\"Fazal Shah\",\"age\":30,\"city\":\"Karachi\"}\n",
    "for key, value in info_dict.items():\n",
    "    print(key,\"---->>\",value)\n",
    "\n",
    "info_dict[\"qualification\"]=\"\"\n",
    "info_dict1={\"qualification\":\"high academic level\"}\n",
    "info_dict.update(info_dict1)\n",
    "info_dict.pop(\"qualification\")\n"
   ]
  },
  {
   "cell_type": "code",
   "execution_count": 2,
   "metadata": {},
   "outputs": [
    {
     "name": "stdout",
     "output_type": "stream",
     "text": [
      "\n",
      "\n",
      "-------------- Information about  KARACHI --------------\n",
      "country --->> Pakistan\n",
      "population --->> 14.91 million \n",
      "fact --->> karachi is known as City Of Lights.\n",
      "\n",
      "\n",
      "-------------- Information about  LAHORE --------------\n",
      "country --->> Pakistan\n",
      "population --->> 11.13 million \n",
      "fact --->> The people of lahore are very hospitable.\n",
      "\n",
      "\n",
      "-------------- Information about  ISLAMABAD --------------\n",
      "country --->> Pakistan\n",
      "population --->> 1.015 million\n",
      "fact --->> Isl is capital city of Pakistan.\n"
     ]
    }
   ],
   "source": [
    "karachi={\"country\":\"Pakistan\",\"population\":\"14.91 million \",\"fact\":\"karachi is known as City Of Lights.\"}\n",
    "islamabad={\"country\":\"Pakistan\",\"population\":\"1.015 million\",\"fact\":\"Isl is capital city of Pakistan.\"}\n",
    "lahore={\"country\":\"Pakistan\",\"population\":\"11.13 million \",\"fact\":\"The people of lahore are very hospitable.\"}\n",
    "cities={\"KARACHI\":karachi,\"LAHORE\":lahore,\"ISLAMABAD\":islamabad}\n",
    "for key,value in cities.items():\n",
    "    print(\"\\n\")\n",
    "    print(\"--------------\",\"Information about \",key,\"--------------\")\n",
    "    for i,j in value.items():\n",
    "        print(i,\"--->>\",j)\n"
   ]
  },
  {
   "cell_type": "code",
   "execution_count": 3,
   "metadata": {},
   "outputs": [
    {
     "name": "stdout",
     "output_type": "stream",
     "text": [
      "please tell us your age??2\n",
      "Your ticket is free.\n",
      "please tell us your age??5\n",
      "Your ticket is $10.\n",
      "please tell us your age??18\n",
      "Your ticket is $15.\n",
      "please tell us your age??stop\n"
     ]
    }
   ],
   "source": [
    "while True:\n",
    "    user=input(\"please tell us your age??\")\n",
    "    if user==\"stop\":\n",
    "        break\n",
    "    elif int(user)<3:\n",
    "        print(\"Your ticket is free.\")\n",
    "    elif int(user)>=3 and int(user)<=12:\n",
    "        print(\"Your ticket is $10.\")\n",
    "    else:\n",
    "        print(\"Your ticket is $15.\")"
   ]
  },
  {
   "cell_type": "code",
   "execution_count": 4,
   "metadata": {},
   "outputs": [
    {
     "name": "stdout",
     "output_type": "stream",
     "text": [
      "One of my favorite books is  Alice in Wonderland\n"
     ]
    }
   ],
   "source": [
    "def favorite_book(title):\n",
    "    print(\"One of my favorite books is \",title)\n",
    "    \n",
    "favorite_book(\"Alice in Wonderland\")\n",
    "\n"
   ]
  },
  {
   "cell_type": "code",
   "execution_count": 5,
   "metadata": {},
   "outputs": [
    {
     "name": "stdout",
     "output_type": "stream",
     "text": [
      "Enter any number  between 1 and 30------>>4\n",
      "HINT: The number you guessed is smaller. please try again!\n",
      "Enter any number  between 1 and 30------>>15\n",
      "HINT: The number you guessed  is greater. please try again!\n",
      "Enter any number  between 1 and 30------>>10\n",
      "HINT: The number you guessed is smaller. please try again!\n",
      "you were only allowed 3 chances...Thankyou!\n"
     ]
    }
   ],
   "source": [
    "import random\n",
    "a=random.randint(1,30)\n",
    "\n",
    "count=1\n",
    "def whole_func():\n",
    "    if count<=3:\n",
    "        def func():\n",
    "            global count,user\n",
    "            count=count+1\n",
    "            user=int(input(\"Enter any number  between 1 and 30------>>\"))      \n",
    "        func()\n",
    "        if user==a:\n",
    "            print(\"kudos! you guessed it right.\")\n",
    "        else:\n",
    "            if user>a:\n",
    "                print(\"HINT: The number you guessed  is greater. please try again!\")\n",
    "                whole_func()\n",
    "            elif user<a:\n",
    "                print(\"HINT: The number you guessed is smaller. please try again!\")\n",
    "                whole_func()\n",
    "    else:\n",
    "        print(\"you were only allowed 3 chances...Thankyou!\")\n",
    "\n",
    "whole_func()\n",
    "\n"
   ]
  },
  {
   "cell_type": "code",
   "execution_count": null,
   "metadata": {},
   "outputs": [],
   "source": []
  }
 ],
 "metadata": {
  "kernelspec": {
   "display_name": "Python 3",
   "language": "python",
   "name": "python3"
  },
  "language_info": {
   "codemirror_mode": {
    "name": "ipython",
    "version": 3
   },
   "file_extension": ".py",
   "mimetype": "text/x-python",
   "name": "python",
   "nbconvert_exporter": "python",
   "pygments_lexer": "ipython3",
   "version": "3.7.4"
  }
 },
 "nbformat": 4,
 "nbformat_minor": 2
}
