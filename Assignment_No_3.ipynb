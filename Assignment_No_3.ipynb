{
 "cells": [
  {
   "cell_type": "code",
   "execution_count": 1,
   "metadata": {},
   "outputs": [
    {
     "name": "stdout",
     "output_type": "stream",
     "text": [
      " 1.Addition\n",
      " 2.Subtraction\n",
      " 3.Multiplication\n",
      " 4.Division\n",
      " 5.Power\n",
      "\n",
      "Which operation do you want to perform?? select the respective option->>1\n",
      "first number--->>5\n",
      "second number--->>5\n",
      "Answer is 10\n"
     ]
    }
   ],
   "source": [
    "print(\" 1.Addition\\n 2.Subtraction\\n 3.Multiplication\\n 4.Division\\n 5.Power\\n\")\n",
    "symbol=str(input('Which operation do you want to perform?? select the respective option->>'))\n",
    "x=int(input('first number--->>'))\n",
    "y=int(input('second number--->>'))\n",
    "def add(x,y):\n",
    "    res=x+y\n",
    "    return res\n",
    "A=add(x,y)\n",
    "def subtract(x,y):\n",
    "    res=x-y\n",
    "    return res\n",
    "B=subtract(x,y)\n",
    "def multiply(x,y):\n",
    "    res=x*y\n",
    "    return res\n",
    "C=multiply(x,y)\n",
    "def divide(x,y):\n",
    "    if y==0:\n",
    "        res=\"Division by zero is not possible\"\n",
    "        return res\n",
    "    else:\n",
    "        res=x/y\n",
    "        return res\n",
    "D=divide(x,y)\n",
    "def power(x,y):\n",
    "    res=x**y\n",
    "    return res\n",
    "E=power(x,y)\n",
    "\n",
    "if symbol=='1':\n",
    "    print(\"Answer is\",A)\n",
    "elif symbol=='2':\n",
    "    print(\"Answer is\",B)\n",
    "elif symbol=='3':\n",
    "    print(\"Answer is\",C)\n",
    "elif symbol=='4':\n",
    "    print(\"Answer is\",D)\n",
    "elif symbol=='5':\n",
    "    print(\"Answer is\",E)\n"
   ]
  },
  {
   "cell_type": "code",
   "execution_count": 2,
   "metadata": {},
   "outputs": [
    {
     "name": "stdout",
     "output_type": "stream",
     "text": [
      "Numeric values in the list are --->> 4\n",
      "Numeric values in the list are --->> 66.7\n",
      "Numeric values in the list are --->> 4\n",
      "Numeric values in the list are --->> 0\n",
      "Numeric values in the list are --->> 88\n",
      "Numeric values in the list are --->> 3\n"
     ]
    }
   ],
   "source": [
    "list_count=[4,\"tire\",\"retire\",66.7,4,0,88,3]#example list\n",
    "add=0\n",
    "for i in list_count:\n",
    "    if type(i) != str:\n",
    "        print(\"Numeric values in the list are --->>\",i)\n"
   ]
  },
  {
   "cell_type": "code",
   "execution_count": 3,
   "metadata": {},
   "outputs": [
    {
     "name": "stdout",
     "output_type": "stream",
     "text": [
      "Enter a number/string as key-->>6\n",
      "Enter a number/string as Value-->>balloon\n",
      "{'6': 'balloon'}\n"
     ]
    }
   ],
   "source": [
    "Dict={}\n",
    "key=input(\"Enter a number/string as key-->>\")\n",
    "val=input(\"Enter a number/string as Value-->>\")\n",
    "Dict[key]=val\n",
    "print(Dict)\n"
   ]
  },
  {
   "cell_type": "code",
   "execution_count": 4,
   "metadata": {},
   "outputs": [
    {
     "name": "stdout",
     "output_type": "stream",
     "text": [
      "Sum : 600\n"
     ]
    }
   ],
   "source": [
    "Dict = {'a': 100, 'b':200, 'c':300} \n",
    "Sum = 0\n",
    "for i in Dict.values(): \n",
    "    Sum = Sum + i\n",
    "print(\"Sum :\",Sum) \n"
   ]
  },
  {
   "cell_type": "code",
   "execution_count": 5,
   "metadata": {},
   "outputs": [
    {
     "name": "stdout",
     "output_type": "stream",
     "text": [
      "duplicate values are--->>\n",
      "4\n",
      "3\n",
      "you\n",
      "10.4\n"
     ]
    }
   ],
   "source": [
    "List=[4,6,'string',9,4,'you',10.40,3,3,'you',10.40]\n",
    "dump=[]\n",
    "duplicate=[]\n",
    "for i in List:\n",
    "    if i not in dump:\n",
    "        dump.append(i)\n",
    "    else:\n",
    "        duplicate.append(i)\n",
    "print(\"duplicate values are--->>\")\n",
    "for i in duplicate:\n",
    "    print(i)\n"
   ]
  },
  {
   "cell_type": "code",
   "execution_count": 6,
   "metadata": {},
   "outputs": [
    {
     "name": "stdout",
     "output_type": "stream",
     "text": [
      "Enter key-->>6\n",
      "Key already exists\n"
     ]
    }
   ],
   "source": [
    "D={1:\"pen\",2:\"pencil\",3:\"wall\",4:\"sharpner\",5:\"sana\",6:\"bilal\"}\n",
    "key=int(input(\"Enter key-->>\"))\n",
    "if key in D:\n",
    "    print(\"Key already exists\")\n",
    "else:\n",
    "    val=input(\"Enter VAlue-->>\")\n",
    "    D[key]=val\n",
    "    print(D)\n"
   ]
  },
  {
   "cell_type": "code",
   "execution_count": null,
   "metadata": {},
   "outputs": [],
   "source": []
  }
 ],
 "metadata": {
  "kernelspec": {
   "display_name": "Python 3",
   "language": "python",
   "name": "python3"
  },
  "language_info": {
   "codemirror_mode": {
    "name": "ipython",
    "version": 3
   },
   "file_extension": ".py",
   "mimetype": "text/x-python",
   "name": "python",
   "nbconvert_exporter": "python",
   "pygments_lexer": "ipython3",
   "version": "3.7.4"
  }
 },
 "nbformat": 4,
 "nbformat_minor": 2
}
