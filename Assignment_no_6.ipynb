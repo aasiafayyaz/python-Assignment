{
 "cells": [
  {
   "cell_type": "code",
   "execution_count": 1,
   "metadata": {},
   "outputs": [
    {
     "name": "stdout",
     "output_type": "stream",
     "text": [
      "Object-oriented programming is a programming paradigm based on the concept of objects, which can contain data, in the form of fields, and code, in the form of procedures.Object-oriented language uses an object-oriented programming technique that binds related data and functions into an object and encourages reuse of these objects within the same and other programs.\n"
     ]
    }
   ],
   "source": [
    "print(\"Object-oriented programming is a programming paradigm based on the concept of objects, which can contain data, in the form of fields, and code, in the form of procedures.Object-oriented language uses an object-oriented programming technique that binds related data and functions into an object and encourages reuse of these objects within the same and other programs.\")\n"
   ]
  },
  {
   "cell_type": "code",
   "execution_count": 2,
   "metadata": {},
   "outputs": [
    {
     "name": "stdout",
     "output_type": "stream",
     "text": [
      "1. Modularity for easier troubleshooting.\n",
      " 2. Reuse of code through inheritance. \n",
      " 3. Flexibility through polymorphism. \n",
      " 4. Effective problem solving. \n",
      " 5. Better Productivity \n"
     ]
    }
   ],
   "source": [
    "print(\"1. Modularity for easier troubleshooting.\\n 2. Reuse of code through inheritance. \\n 3. Flexibility through polymorphism. \\n 4. Effective problem solving. \\n 5. Better Productivity \")"
   ]
  },
  {
   "cell_type": "code",
   "execution_count": 3,
   "metadata": {},
   "outputs": [
    {
     "name": "stdout",
     "output_type": "stream",
     "text": [
      "------Function-------\n",
      "A function is a piece of code that is called by name.\n",
      " It can be passed data to operate on (i.e. the parameters) and can optionally return data (the return value). All data that is passed to a function is explicitly passed. \n",
      " \n",
      "------Method-------\n",
      "A method is a piece of code that is called by a name that is associated with an object. In most respects it is identical to a function except for two key differences: \n",
      " 1) A method is implicitly passed the object on which it was called. \n",
      " 2) A method is able to operate on data that is contained within the class (remembering that an object is an instance of a class - the class is the definition, the object is an instance of that data).\n"
     ]
    }
   ],
   "source": [
    "print(\"------Function-------\")\n",
    "print(\"A function is a piece of code that is called by name.\\n It can be passed data to operate on (i.e. the parameters) and can optionally return data (the return value). All data that is passed to a function is explicitly passed. \\n \")\n",
    "\n",
    "\n",
    "print(\"------Method-------\")\n",
    "print(\"A method is a piece of code that is called by a name that is associated with an object. In most respects it is identical to a function except for two key differences: \\n 1) A method is implicitly passed the object on which it was called. \\n 2) A method is able to operate on data that is contained within the class (remembering that an object is an instance of a class - the class is the definition, the object is an instance of that data).\")"
   ]
  },
  {
   "cell_type": "code",
   "execution_count": 4,
   "metadata": {},
   "outputs": [
    {
     "name": "stdout",
     "output_type": "stream",
     "text": [
      "------------Class---------------\n",
      "A class can be defined as a template/blueprint that describes the behavior/state that the object of its type support.\n",
      "------------Object---------------\n",
      "object is an instance of a particular class or subclass with the class's own methods or procedures and data variables.\n",
      "------------Attribute---------------\n",
      "Attributes are data stored inside a class or instance and represent the state or quality of the class or instance.\n",
      "------------behavior---------------\n",
      "The behavior of an object is defined by its methods, which are the functions and subroutines defined within the object class.\n"
     ]
    }
   ],
   "source": [
    "print(\"------------Class---------------\")\n",
    "print(\"A class can be defined as a template/blueprint that describes the behavior/state that the object of its type support.\")\n",
    "\n",
    "print(\"------------Object---------------\")\n",
    "print(\"object is an instance of a particular class or subclass with the class's own methods or procedures and data variables.\")\n",
    "\n",
    "\n",
    "print(\"------------Attribute---------------\")\n",
    "print(\"Attributes are data stored inside a class or instance and represent the state or quality of the class or instance.\")\n",
    "\n",
    "print(\"------------behavior---------------\")\n",
    "print(\"The behavior of an object is defined by its methods, which are the functions and subroutines defined within the object class.\")\n",
    "\n"
   ]
  },
  {
   "cell_type": "code",
   "execution_count": 5,
   "metadata": {},
   "outputs": [
    {
     "name": "stdout",
     "output_type": "stream",
     "text": [
      "This is a black BMW with model number 1980 Engine =  100cc and with seating capacity =  2\n",
      "This is a White Audi with model number 2000 Engine =  10000cc and with seating capacity =  6\n",
      "This is a Red Acura with model number 2010 Engine =  10000cc and with seating capacity =  6\n",
      "This is a Brown Ferrari with model number 2017 Engine =  10000cc and with seating capacity =  6\n",
      "This is a Red Hyundai with model number 1880 Engine =  100cc and with seating capacity =  2\n"
     ]
    }
   ],
   "source": [
    "class car:\n",
    "  #Constructor to initialize\n",
    "  def __init__(self,company,color,Model):\n",
    "    self.company = company\n",
    "    self.color = color\n",
    "    self.Model = Model\n",
    "\n",
    "\n",
    "  def info(self):\n",
    "        if int(self.Model)<1990:\n",
    "            self.engine=\"100cc\"\n",
    "            self.seating_capacity=2\n",
    "        elif int(self.Model)>1990 and int(self.Model)<2000:\n",
    "            self.engine=\"1800cc\"\n",
    "            self.seating_capacity=4\n",
    "        else:\n",
    "            self.engine=\"10000cc\"\n",
    "            self.seating_capacity=6\n",
    "    \n",
    "  #function to print car company and color\n",
    "  def display(self):\n",
    "    print ('This is a', self.color, self.company,\"with model number\",self.Model,\"Engine = \",self.engine,\"and with seating capacity = \",self.seating_capacity)\n",
    "\n",
    "obj_1 = car(\"BMW\",\"black\",1980)\n",
    "obj_1.info()\n",
    "obj_1.display()\n",
    "\n",
    "obj_2 = car(\"Audi\",\"White\",2000)\n",
    "obj_2.info()\n",
    "obj_2.display()\n",
    "\n",
    "obj_3 = car(\"Acura\",\"Red\",2010)\n",
    "obj_3.info()\n",
    "obj_3.display()\n",
    "\n",
    "obj_4 = car(\"Ferrari\",\"Brown\",2017)\n",
    "obj_4.info()\n",
    "obj_4.display()\n",
    "\n",
    "obj_5 = car(\"Hyundai\",\"Red\",1880)\n",
    "obj_5.info()\n",
    "obj_5.display()"
   ]
  },
  {
   "cell_type": "code",
   "execution_count": null,
   "metadata": {},
   "outputs": [],
   "source": []
  }
 ],
 "metadata": {
  "kernelspec": {
   "display_name": "Python 3",
   "language": "python",
   "name": "python3"
  },
  "language_info": {
   "codemirror_mode": {
    "name": "ipython",
    "version": 3
   },
   "file_extension": ".py",
   "mimetype": "text/x-python",
   "name": "python",
   "nbconvert_exporter": "python",
   "pygments_lexer": "ipython3",
   "version": "3.7.4"
  }
 },
 "nbformat": 4,
 "nbformat_minor": 2
}
