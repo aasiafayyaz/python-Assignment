{
 "cells": [
  {
   "cell_type": "code",
   "execution_count": 5,
   "metadata": {},
   "outputs": [
    {
     "name": "stdout",
     "output_type": "stream",
     "text": [
      "please enter a non-negative number--->>7\n",
      "factorial is  5040\n"
     ]
    }
   ],
   "source": [
    "def fact(number):\n",
    "    if number==0:\n",
    "        print(\"Factorial is 1\")\n",
    "    else:\n",
    "        for i in range(number-1,1,-1):\n",
    "            number=number*i\n",
    "        print(\"factorial is \", number)\n",
    "\n",
    "fact(int(input(\"please enter a non-negative number--->>\")))\n"
   ]
  },
  {
   "cell_type": "code",
   "execution_count": 6,
   "metadata": {},
   "outputs": [
    {
     "name": "stdout",
     "output_type": "stream",
     "text": [
      "please enter a string--->>This Is PYTHon PROgrammING claSS.\n",
      "Uppercase= 14 Lowercase= 19\n"
     ]
    }
   ],
   "source": [
    "def case(string):\n",
    "    upper=0\n",
    "    lower=0\n",
    "    for i in string:\n",
    "        if i.isupper():\n",
    "            upper=upper+1\n",
    "        else:\n",
    "            lower=lower+1\n",
    "    print(\"Uppercase=\",upper,\"Lowercase=\",lower)\n",
    "\n",
    "\n",
    "case(str(input(\"please enter a string--->>\")))\n"
   ]
  },
  {
   "cell_type": "code",
   "execution_count": 7,
   "metadata": {},
   "outputs": [
    {
     "name": "stdout",
     "output_type": "stream",
     "text": [
      "List of even numbers\n",
      "--> 34\n",
      "--> 88\n",
      "--> 90\n",
      "--> 2\n",
      "--> 6600\n",
      "--> 7760\n",
      "--> 44\n"
     ]
    }
   ],
   "source": [
    "\n",
    "li=[34,88,90,53,1,2,21,47,6600,45,53,2341,7760,5465,44,345,99]\n",
    "print(\"List of even numbers\")\n",
    "def even(li):\n",
    "    for i in li:\n",
    "        if i%2==0:\n",
    "            print(\"-->\",i)\n",
    "        else:\n",
    "            continue\n",
    "\n",
    "even(li)\n"
   ]
  },
  {
   "cell_type": "code",
   "execution_count": 8,
   "metadata": {},
   "outputs": [
    {
     "name": "stdout",
     "output_type": "stream",
     "text": [
      "please enter a string--->>maham\n",
      "Given input string is palindrome.\n"
     ]
    }
   ],
   "source": [
    "\n",
    "def palindrome(string):\n",
    "    if string==string[::-1]:\n",
    "        print(\"Given input string is palindrome.\")\n",
    "    else:\n",
    "        print(\"Given input string is not palindrome.\")\n",
    "\n",
    "palindrome(str(input(\"please enter a string--->>\")))\n"
   ]
  },
  {
   "cell_type": "code",
   "execution_count": 9,
   "metadata": {},
   "outputs": [
    {
     "name": "stdout",
     "output_type": "stream",
     "text": [
      "please enter a  number--->>56\n",
      "the number is not prime!\n"
     ]
    }
   ],
   "source": [
    "\n",
    "def prime(number):\n",
    "      if number > 1:\n",
    "         for j in range(2,number):\n",
    "            if (number% j) == 0:\n",
    "                print(\"the number is not prime!\")\n",
    "                break\n",
    "         else:\n",
    "            print(\"the number is prime!\")\n",
    "      else:\n",
    "           print(\"the number is not a prime number\")\n",
    "\n",
    "prime(int(input(\"please enter a  number--->>\")))\n"
   ]
  },
  {
   "cell_type": "code",
   "execution_count": 10,
   "metadata": {},
   "outputs": [
    {
     "name": "stdout",
     "output_type": "stream",
     "text": [
      "bag\n",
      "watch\n",
      "candles\n",
      "knife\n",
      "fruits\n",
      "dishes\n",
      "clothes\n"
     ]
    }
   ],
   "source": [
    "def items(*lists):\n",
    "    for i in lists:\n",
    "        print(i)\n",
    "\n",
    "items(\"bag\",\"watch\",\"candles\",\"knife\",\"fruits\",\"dishes\",\"clothes\")\n"
   ]
  },
  {
   "cell_type": "code",
   "execution_count": null,
   "metadata": {},
   "outputs": [],
   "source": []
  }
 ],
 "metadata": {
  "kernelspec": {
   "display_name": "Python 3",
   "language": "python",
   "name": "python3"
  },
  "language_info": {
   "codemirror_mode": {
    "name": "ipython",
    "version": 3
   },
   "file_extension": ".py",
   "mimetype": "text/x-python",
   "name": "python",
   "nbconvert_exporter": "python",
   "pygments_lexer": "ipython3",
   "version": "3.7.4"
  }
 },
 "nbformat": 4,
 "nbformat_minor": 2
}
